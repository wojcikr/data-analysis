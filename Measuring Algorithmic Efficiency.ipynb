{
 "cells": [
  {
   "cell_type": "markdown",
   "metadata": {},
   "source": [
    "# Measuring Algorithmic Efficiency"
   ]
  },
  {
   "cell_type": "markdown",
   "metadata": {},
   "source": [
    "## Overview"
   ]
  },
  {
   "cell_type": "markdown",
   "metadata": {},
   "source": [
    "One of the most common problems in modern programming is the need to sort sets of data. Nowadays, all programming languages have some kind of sorting routines already built in, so it's highly unlikely that anyone would put an effort into writing their own sorting algorithm. However, analyzing and comparing different algorithms might be helpful to understand how they work, so we can choose the best one for a particular case. This paper will focus on bubble sort, merge sort and quick sort. Each of these sorting algorithms illustrate a different approach to sorting information. In the first part of this paper, we will analyze the algorithms and how they work, then, we will compare their performance in the second part."
   ]
  },
  {
   "cell_type": "markdown",
   "metadata": {},
   "source": [
    "## Bubble Sort"
   ]
  },
  {
   "cell_type": "markdown",
   "metadata": {},
   "source": [
    "Let's start with bubble sort, one of the most basic sorting algorithms. It is a pretty simple algorithm where the highest value 'bubbles' its way up to the top. Basically, it starts with comparing the first two elements of an array to each other to see which is greater. If the first element is larger than the second, the two elements are swapped. Then, the algorithm advances to the next pair and performs the same comparison, swapping the values if the first one is greater. The process continues, till it examines the last element of the array and the largest value makes its way to the top. After it puts the largest value in its place, the process starts all over again, but now, it only examines the elements up to the one before the last item. The algorithm will perform sorting operations until the array is fully sorted. Let's now write some code."
   ]
  },
  {
   "cell_type": "code",
   "execution_count": 20,
   "metadata": {},
   "outputs": [],
   "source": [
    "def bubblesort(dataset):\n",
    "    # start at the top\n",
    "    for i in range(len(dataset) - 1, 0, -1):\n",
    "        # examine elements\n",
    "        for j in range(i):\n",
    "            # swap items\n",
    "            if dataset[j] > dataset[j + 1]:\n",
    "                temp = dataset[j]\n",
    "                dataset[j] = dataset[j + 1]\n",
    "                dataset[j + 1] = temp"
   ]
  },
  {
   "cell_type": "markdown",
   "metadata": {},
   "source": [
    "First, we write a loop that will examine every element in the array. Then we'll decrease by one each time because, as mentioned above, when the highest value reaches the top, the algorithm can skip it. This is why we are using a range function to count down from the end of the array. Therefore, the range is going to start at the length of the dataset minus one as this is the array's last item, stop at the zeroth item, and step by minus one each time. Then, inside this loop, we will include an inner loop to compare the neighboring elements and then swap them if needed. To achieve that, we need to do the comparisons. So, if the element at dataset j is greater than the one next to it, we will move it to a temporary variable and then switch them."
   ]
  },
  {
   "cell_type": "markdown",
   "metadata": {},
   "source": [
    "## Merge Sort"
   ]
  },
  {
   "cell_type": "markdown",
   "metadata": {},
   "source": [
    "The merge sort is a so called divide-and-conquer algorithm. It takes a given set of data and breaks it down into smaller chunks, so the data is easier to work with. The algorithm uses recursion to break the data down, sort the smaller sets of data and then gradually work it's way back up to the original dataset. To understand how the merge sort works, the key is how to combine two sorted arrays together. Let's take a look at the code."
   ]
  },
  {
   "cell_type": "code",
   "execution_count": 21,
   "metadata": {},
   "outputs": [],
   "source": [
    "def mergesort(dataset):\n",
    "    if len(dataset) > 1:\n",
    "        mid = len(dataset) // 2\n",
    "        leftarr = dataset[:mid]\n",
    "        rightarr = dataset[mid:]\n",
    "\n",
    "        # recursively break down the data set\n",
    "        mergesort(leftarr)\n",
    "        mergesort(rightarr)\n",
    "\n",
    "        # combining the sets\n",
    "        i=0 # left array\n",
    "        j=0 # right array\n",
    "        k=0 # merged array\n",
    "\n",
    "        # only when both arrays have content\n",
    "        while i < len(leftarr) and j < len(rightarr):\n",
    "            if leftarr[i] < rightarr[j]:\n",
    "                dataset[k] = leftarr[i]\n",
    "                i += 1\n",
    "            else:\n",
    "                dataset[k] = rightarr[j]\n",
    "                j += 1\n",
    "            k += 1\n",
    "\n",
    "        # if the left array still has values, add them\n",
    "        while i < len(leftarr):\n",
    "            dataset[k] = leftarr[i]\n",
    "            i += 1\n",
    "            k += 1\n",
    "\n",
    "        # if the right array still has values, add them\n",
    "        while j < len(rightarr):\n",
    "            dataset[k] = rightarr[j]\n",
    "            j += 1\n",
    "            k += 1"
   ]
  },
  {
   "cell_type": "markdown",
   "metadata": {},
   "source": [
    "We begin with taking the data set and breaking it down into two arrays. We find the middle of the original array and then we break it into two halves (left and right arrays). Now, we need to call the function recursively, which mean that the function is going to call itself, to keep breaking these arrays down further into smaller and smaller parts. As long as we have a dataset includes more than one element, the data sets will be divided into smaller pieces. Once the process is finished, the function will start to merge the elements. Then, we have three indexes: i indexes into the left array, j indexes into the right array, and k will index into the single merged array that we are building. While the i index is less than the length of the left array (there are still elements there) and while j is less than the length of the right array, we will compare the indexes of both arrays. Whichever value is lower will be then indexed by k in the single merged array that we're building back up. Both array containing the lower value and the target merged one will then increment one point. The algorithm will advance the merged array index so when this process completes, we will have merged and sorted values from left and right arrays. If we get to this point, it might happen that either left or right array will still have values. In this case we add them to the merged array."
   ]
  },
  {
   "cell_type": "markdown",
   "metadata": {},
   "source": [
    "## Quick Sort"
   ]
  },
  {
   "cell_type": "markdown",
   "metadata": {},
   "source": [
    "The last algorithm that we are going to analyze is quicksort. Similarly to merge sort, it is also a divide-and-conquer algorithm utilizing recursion to perform its work, however, it usually is more efficient than the merge sort. moreover, quick sort also performs the sorting in place as opposed to creating new array, so it does not require extra memory to do its work. The main feature of the quick sort algorithm is the selection of the pivot point. There are various ways of picking the pivot position, and there are all kinds of papers and research done on this, however, just for simplicity, we will use the first item in the array. Below, you can see how quick sort works."
   ]
  },
  {
   "cell_type": "code",
   "execution_count": 22,
   "metadata": {},
   "outputs": [],
   "source": [
    "def quicksort(dataset, first, last):\n",
    "    if first < last:\n",
    "        # select the split point\n",
    "        pivotidx = partition(dataset, first, last)\n",
    "\n",
    "        # sort the partitions\n",
    "        quicksort(dataset, first, pivotidx-1)\n",
    "        quicksort(dataset, pivotidx + 1, last)\n",
    "\n",
    "\n",
    "def partition(datavalues, first, last):\n",
    "    # choose the pivot value\n",
    "    pivotvalue = datavalues[first]\n",
    "    # set the upper and lower indexes\n",
    "    lower = first + 1\n",
    "    upper = last\n",
    "\n",
    "    # look for the crossing point\n",
    "    done = False\n",
    "    while not done:\n",
    "        # increment the lower index\n",
    "        while lower <= upper and datavalues[lower] <= pivotvalue:\n",
    "            lower += 1\n",
    "\n",
    "        # increment the upper index\n",
    "        while datavalues[upper] >= pivotvalue and upper >= lower:\n",
    "            upper -= 1\n",
    "\n",
    "        # if the indexes cross, we receive the split point\n",
    "        if upper < lower:\n",
    "            done = True\n",
    "        else:\n",
    "            # swap the two values\n",
    "            temp = datavalues[lower]\n",
    "            datavalues[lower] = datavalues[upper]\n",
    "            datavalues[upper] = temp\n",
    "\n",
    "    # when the split point is found, swap the pivot value\n",
    "    temp = datavalues[first]\n",
    "    datavalues[first] = datavalues[upper]\n",
    "    datavalues[upper] = temp\n",
    "\n",
    "    # return new pivot value\n",
    "    return upper"
   ]
  },
  {
   "cell_type": "markdown",
   "metadata": {},
   "source": [
    "As you can see, the quick sort algorithm utilizes two functions. The first one, determines the pivot index by calling the partition function and then recursively calls itself on partitioned dataset. Now, let's analyze the process of partitioning the list. In a nutshell, the main purpose of the partitioning is to move elements that are on the wrong side of the pivot point and determine the point at which to split the array in order to recursively do this again. To achieve that, we add two indexes, the lower index and the upper index, and begin with incrementing the lower index, as long as it is less than the upper index, and until we find a value that's larger than the pivot value. Then, we mirror the same to the other side, namely we decrement the index as long as it's higher than the lower index and we find a value that is lower than the pivot value. We do that until we can no longer split arrays, where each array has one item. Comparing to the merge sort, where all the work gets done in the merge step, here most of the work is performed in the partition step and the data is being sorted in place."
   ]
  },
  {
   "cell_type": "markdown",
   "metadata": {},
   "source": [
    "# Measuring Efficiency"
   ]
  },
  {
   "cell_type": "raw",
   "metadata": {},
   "source": []
  },
  {
   "cell_type": "code",
   "execution_count": null,
   "metadata": {},
   "outputs": [],
   "source": []
  },
  {
   "cell_type": "markdown",
   "metadata": {},
   "source": [
    "To measure the performance of algorythms, we are going to compare them based on their execution time and number of times the algorithms had to go through an array to sort it. The sample we will use to sort the numbers will be a random integers between 1 and 1000. To ensure that we use the same sample for every algorithm, we will use NumPy's random.seed function. Let's import some modules we are going to need."
   ]
  },
  {
   "cell_type": "code",
   "execution_count": 23,
   "metadata": {},
   "outputs": [],
   "source": [
    "import time\n",
    "import numpy as np\n",
    "import matplotlib.pyplot as plt\n",
    "\n",
    "%matplotlib inline\n",
    "plt.rcParams['figure.figsize'] = [9.5, 6]"
   ]
  },
  {
   "cell_type": "markdown",
   "metadata": {},
   "source": [
    "We are going to start with the generation of the sample."
   ]
  },
  {
   "cell_type": "code",
   "execution_count": 24,
   "metadata": {},
   "outputs": [],
   "source": [
    "np.random.seed(2)\n",
    "nums = np.random.randint(low=1, high=1000, size=1000)"
   ]
  },
  {
   "cell_type": "markdown",
   "metadata": {},
   "source": [
    "Now lets measure the time of Bubble Sort algorithim."
   ]
  },
  {
   "cell_type": "code",
   "execution_count": 29,
   "metadata": {},
   "outputs": [
    {
     "name": "stdout",
     "output_type": "stream",
     "text": [
      "Bubble Sort runtime: 0.12885s\n",
      "Merge Sort runtime: 0.00603s\n",
      "Quick Sort runtime: 0.06693s\n"
     ]
    }
   ],
   "source": [
    "start = time.time()\n",
    "bubblesort(nums)\n",
    "end = time.time()\n",
    "bs_time = end - start\n",
    "print(f\"Bubble Sort runtime: {bs_time:.5f}s\")\n",
    "\n",
    "start = time.time()\n",
    "mergesort(nums)\n",
    "end = time.time()\n",
    "ms_time = end - start\n",
    "print(f\"Merge Sort runtime: {ms_time:.5f}s\")\n",
    "\n",
    "start = time.time()\n",
    "quicksort(nums,0,len(nums)-1)\n",
    "end = time.time()\n",
    "qs_time = end - start\n",
    "print(f\"Quick Sort runtime: {qs_time:.5f}s\")"
   ]
  },
  {
   "cell_type": "markdown",
   "metadata": {},
   "source": [
    "Now, let's make a bar chart of the results we got."
   ]
  },
  {
   "cell_type": "code",
   "execution_count": 52,
   "metadata": {},
   "outputs": [
    {
     "data": {
      "image/png": "[encoded data removed]",
      "text/plain": [
       "<Figure size 684x432 with 1 Axes>"
      ]
     },
     "metadata": {
      "needs_background": "light"
     },
     "output_type": "display_data"
    }
   ],
   "source": [
    "perf = [bs_time, ms_time, qs_time]\n",
    "ind = np.arange(3)\n",
    "plt.bar(ind, performance)\n",
    "plt.ylabel('Time')\n",
    "plt.title('Algorithm Runtime')\n",
    "plt.xticks(ind, ('Bubble Sort', 'Merge Sort', 'Quick Sort'))\n",
    "plt.yticks(np.arange(0, 0.16, 0.02))\n",
    "plt.show()"
   ]
  }
 ],
 "metadata": {
  "kernelspec": {
   "display_name": "Python 3",
   "language": "python",
   "name": "python3"
  },
  "language_info": {
   "codemirror_mode": {
    "name": "ipython",
    "version": 3
   },
   "file_extension": ".py",
   "mimetype": "text/x-python",
   "name": "python",
   "nbconvert_exporter": "python",
   "pygments_lexer": "ipython3",
   "version": "3.7.4"
  }
 },
 "nbformat": 4,
 "nbformat_minor": 2
}
