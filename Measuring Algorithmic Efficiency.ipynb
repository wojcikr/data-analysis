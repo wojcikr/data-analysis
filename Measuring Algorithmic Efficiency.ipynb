{
 "cells": [
  {
   "cell_type": "markdown",
   "metadata": {},
   "source": [
    "# Measuring Algorithmic Efficiency"
   ]
  },
  {
   "cell_type": "markdown",
   "metadata": {},
   "source": [
    "## Overview"
   ]
  },
  {
   "cell_type": "markdown",
   "metadata": {},
   "source": [
    "One of the most common problems in modern programming is the need to sort sets of data. Nowadays, all programming languages have some kind of sorting routines already built in, so it's highly unlikely that anyone would put an effort into writing their own sorting algorithm. However, analyzing and comparing different algorithms might be helpful to understand how they work, so we can choose the best one for a particular case. This paper will focus on bubblesort, mergesort and quicksort. Each of these sorting algorithms illustrate a different approach to sorting information. In the first part of this paper, we will analyze the algorithms and how they work, then, we will compare their performance in the second part."
   ]
  },
  {
   "cell_type": "markdown",
   "metadata": {},
   "source": [
    "## Bubblesort"
   ]
  },
  {
   "cell_type": "markdown",
   "metadata": {},
   "source": [
    "Let's start with bubblesort, one of the most basic sorting algorithms. It is a pretty simple algorithm where the highest value 'bubbles' its way up to the top. Basically, it starts with comparing the first two elements of an array to each other to see which is greater. If the first element is larger than the second, the two elements are swapped. Then, the algorithm advances to the next pair and performs the same comparison, swapping the values if the first one is greater. The process continues, till it examines the last element of the array and the largest value makes its way to the top. After it puts the largest value in its place, the process starts all over again, but now, it only examines the elements up to the one before the last item. The algorithm will perform sorting operations until the array is fully sorted. Let's now write some code."
   ]
  },
  {
   "cell_type": "code",
   "execution_count": 1,
   "metadata": {},
   "outputs": [],
   "source": [
    "def bubblesort(dataset):\n",
    "    # start at the top\n",
    "    for i in range(len(dataset) - 1, 0, -1):\n",
    "        # examine elements\n",
    "        for j in range(i):\n",
    "            # swap items\n",
    "            if dataset[j] > dataset[j + 1]:\n",
    "                temp = dataset[j]\n",
    "                dataset[j] = dataset[j + 1]\n",
    "                dataset[j + 1] = temp"
   ]
  },
  {
   "cell_type": "markdown",
   "metadata": {},
   "source": [
    "First, we write a loop that will examine every element in the array. Then we'll decrease by one each time because, as mentioned above, when the highest value reaches the top, the algorithm can skip it. This is why we are using a range function to count down from the end of the array. Therefore, the range is going to start at the length of the dataset minus one as this is the array's last item, stop at the zeroth item, and step by minus one each time. Then, inside this loop, we will include an inner loop to compare the neighboring elements and then swap them if needed. To achieve that, we need to do the comparisons. So, if the element at dataset j is greater than the one next to it, we will move it to a temporary variable and then switch them."
   ]
  },
  {
   "cell_type": "markdown",
   "metadata": {},
   "source": [
    "## Mergesort"
   ]
  },
  {
   "cell_type": "markdown",
   "metadata": {},
   "source": [
    "The mergesort is a so called divide-and-conquer algorithm. It takes a given set of data and breaks it down into smaller chunks, so the data is easier to work with. The algorithm uses recursion to break the data down, sort the smaller sets of data and then gradually work it's way back up to the original dataset. To understand how the mergesort works, the key is how to combine two sorted arrays together. Let's take a look at the code."
   ]
  },
  {
   "cell_type": "code",
   "execution_count": 2,
   "metadata": {},
   "outputs": [],
   "source": [
    "def mergesort(dataset):\n",
    "    if len(dataset) <= 1:\n",
    "        return dataset\n",
    "    result = []\n",
    "    mid = int(len(dataset) // 2)\n",
    "    \n",
    "    # recursively break down the dataset\n",
    "    leftarr = mergesort(dataset[:mid])\n",
    "    rightarr = mergesort(dataset[mid:])\n",
    "    i = 0\n",
    "    j = 0\n",
    "    \n",
    "    # only when both arrays have content\n",
    "    while i < len(leftarr) and j < len(rightarr):\n",
    "        if leftarr[i] > rightarr[j]:\n",
    "            result.append(rightarr[j])\n",
    "            j += 1\n",
    "        else:\n",
    "            result.append(leftarr[i])\n",
    "            i += 1\n",
    "    result = result + leftarr[i:]\n",
    "    result = result + rightarr[j:]\n",
    "    return result"
   ]
  },
  {
   "cell_type": "markdown",
   "metadata": {},
   "source": [
    "We begin with taking the data set and breaking it down into two arrays. We find the middle of the original array and then we break it into two halves (left and right arrays). Now, we need to call the function recursively, which mean that the function is going to call itself, to keep breaking these arrays down further into smaller and smaller parts. As long as we have a dataset includes more than one element, the data sets will be divided into smaller pieces. Once the process is finished, the function will start to merge the elements. Then, we have three indexes: i indexes into the left array, j indexes into the right array, and k will index into the single merged array that we are building. While the i index is less than the length of the left array (there are still elements there) and while j is less than the length of the right array, we will compare the indexes of both arrays. Whichever value is lower will be then indexed by k in the single merged array that we're building back up. Both array containing the lower value and the target merged one will then increment one point. The algorithm will advance the merged array index so when this process completes, we will have merged and sorted values from left and right arrays. If we get to this point, it might happen that either left or right array will still have values. In this case we add them to the merged array."
   ]
  },
  {
   "cell_type": "markdown",
   "metadata": {},
   "source": [
    "## Quicksort"
   ]
  },
  {
   "cell_type": "markdown",
   "metadata": {},
   "source": [
    "The last algorithm that we are going to analyze is quicksort. Similarly to merge sort, it is also a divide-and-conquer algorithm utilizing recursion to perform its work, however, it usually is more efficient than the mergesort. Moreover, quicksort also performs the sorting in place as opposed to creating new array, so it does not require extra memory to do its work. The main feature of the quicksort algorithm is the selection of the pivot point. There are various ways of picking the pivot position, and there are all kinds of papers and research done on this, however, just for simplicity, we will select a random item from the given array. Below, you can see how quicksort works."
   ]
  },
  {
   "cell_type": "code",
   "execution_count": 3,
   "metadata": {},
   "outputs": [],
   "source": [
    "import random\n",
    "\n",
    "def quicksort(dataset, first, last):\n",
    "    if first >= last:\n",
    "        return\n",
    "\n",
    "    i, j = first, last\n",
    "    # pivot will be randomly selected with each round of recursion\n",
    "    pivot = dataset[random.randint(first, last)]\n",
    "\n",
    "    while i <= j:\n",
    "        # increment the lower index\n",
    "        while dataset[i] < pivot:\n",
    "            i += 1\n",
    "        # increment the upper index\n",
    "        while dataset[j] > pivot:\n",
    "            j -= 1\n",
    "        # swap the values\n",
    "        if i <= j:\n",
    "            dataset[i], dataset[j] = dataset[j], dataset[i]\n",
    "            i, j = i + 1, j - 1\n",
    "            \n",
    "    # sort the partitions\n",
    "    quicksort(dataset, first, j)\n",
    "    quicksort(dataset, i, last)"
   ]
  },
  {
   "cell_type": "markdown",
   "metadata": {},
   "source": [
    "As you can see, the quicksort algorithm works two-fold. Firstly, it determines the pivot index and then, at the end, recursively calls itself on partitioned dataset. Secondly, it compares the items and swaps them if needed. Now, let's analyze the process of partitioning the list. In a nutshell, the main purpose of the partitioning is to move elements that are on the wrong side of the pivot point and determine the point at which to split the array in order to recursively do this again. To achieve that, we add two indexes, the lower index and the upper index, and begin with incrementing the lower index, as long as it is less than the upper index, and until we find a value that's larger than the pivot value. Then, we mirror the same to the other side, namely we decrement the index as long as it's higher than the lower index and we find a value that is lower than the pivot value. We do that until we can no longer split arrays, where each array has one item. Comparing to the merge sort, where all the work gets done in the merge step, here most of the work is performed in the partition step and the data is being sorted in place."
   ]
  },
  {
   "cell_type": "markdown",
   "metadata": {},
   "source": [
    "# Measuring Performance"
   ]
  },
  {
   "cell_type": "markdown",
   "metadata": {},
   "source": [
    "To measure the performance of algorythms, we are going to compare them based on their execution time and number of times the algorithms had to go through an array to sort it. The sample we will use to sort the numbers will be a random integers between 1 and 1000. To ensure that we use the same sample for every algorithm, we will use NumPy's random.seed function."
   ]
  },
  {
   "cell_type": "code",
   "execution_count": 4,
   "metadata": {},
   "outputs": [],
   "source": [
    "import time\n",
    "import numpy as np\n",
    "\n",
    "np.random.seed(2)\n",
    "nums = np.random.randint(low=1, high=1000, size=1000)"
   ]
  },
  {
   "cell_type": "markdown",
   "metadata": {},
   "source": [
    "Now, let's measure the sorting time of each algorithm."
   ]
  },
  {
   "cell_type": "code",
   "execution_count": 5,
   "metadata": {},
   "outputs": [
    {
     "name": "stdout",
     "output_type": "stream",
     "text": [
      "Bubblesort runtime: 0.22393s\n"
     ]
    }
   ],
   "source": [
    "start = time.time()\n",
    "bubblesort(nums.copy())\n",
    "end = time.time()\n",
    "bs_time = end - start\n",
    "print(f\"Bubblesort runtime: {bs_time:.5f}s\")"
   ]
  },
  {
   "cell_type": "code",
   "execution_count": 6,
   "metadata": {},
   "outputs": [
    {
     "name": "stdout",
     "output_type": "stream",
     "text": [
      "Mergesort runtime: 0.00598s\n"
     ]
    }
   ],
   "source": [
    "start = time.time()\n",
    "mergesort(nums.copy())\n",
    "end = time.time()\n",
    "ms_time = end - start\n",
    "print(f\"Mergesort runtime: {ms_time:.5f}s\")"
   ]
  },
  {
   "cell_type": "code",
   "execution_count": 7,
   "metadata": {},
   "outputs": [
    {
     "name": "stdout",
     "output_type": "stream",
     "text": [
      "Quicksort runtime: 0.00499s\n"
     ]
    }
   ],
   "source": [
    "start = time.time()\n",
    "quicksort(nums.copy(),0,len(nums)-1)\n",
    "end = time.time()\n",
    "qs_time = end - start\n",
    "print(f\"Quicksort runtime: {qs_time:.5f}s\")"
   ]
  },
  {
   "cell_type": "markdown",
   "metadata": {},
   "source": [
    "To showcase the results we got, we are going to add them to a bar chart."
   ]
  },
  {
   "cell_type": "code",
   "execution_count": 8,
   "metadata": {},
   "outputs": [
    {
     "data": {
      "image/png": "[encoded data removed]",
      "text/plain": [
       "<Figure size 432x288 with 1 Axes>"
      ]
     },
     "metadata": {},
     "output_type": "display_data"
    }
   ],
   "source": [
    "import matplotlib.pyplot as plt\n",
    "from matplotlib import rcParams\n",
    "\n",
    "%matplotlib inline\n",
    "plt.style.use('ggplot')\n",
    "\n",
    "perf = [bs_time, ms_time, qs_time]\n",
    "ind = np.arange(3)\n",
    "\n",
    "plt.bar(ind, perf)\n",
    "plt.ylabel('Time')\n",
    "plt.title('Algorithm Runtime')\n",
    "plt.xticks(ind, ('Bubblesort', 'Mergesort', 'Quicksort'))\n",
    "plt.show()"
   ]
  },
  {
   "cell_type": "markdown",
   "metadata": {},
   "source": [
    "As we can see above, bubblesort is about 50 times slower than quicksort or mergesort. Let's see how all the algorithms perform when the sets of numbers increase over time. To achieve that we will generate an array of lists containing random numbers, where each of them will have 100 elements more than the previous one. There will be 60 sets of numbers."
   ]
  },
  {
   "cell_type": "code",
   "execution_count": 9,
   "metadata": {},
   "outputs": [],
   "source": [
    "arr = []\n",
    "np.random.seed(10)\n",
    "for i in range(1000,7001,100):\n",
    "    arr.append(list(np.random.randint(low=1, high=1000, size=(i))))"
   ]
  },
  {
   "cell_type": "markdown",
   "metadata": {},
   "source": [
    "Since this is an array of lists, we need to use copy.deepcopy function to copy nested mutable objects and sort them independently. Since, bubblesort and quicksort are doing sorting in place and mergesort returns a merged list, we will create 3 separate sample copies of the set of numbers generated above."
   ]
  },
  {
   "cell_type": "code",
   "execution_count": 10,
   "metadata": {},
   "outputs": [],
   "source": [
    "import copy\n",
    "\n",
    "samples = []\n",
    "\n",
    "for i in range(3):\n",
    "    samples.append([f'sample_{i}'])\n",
    "    samples[i] = copy.deepcopy(arr)"
   ]
  },
  {
   "cell_type": "markdown",
   "metadata": {},
   "source": [
    "Let's call each of the sorting functions on the samples created above, measure the sorting time and store it in a variable, so we could compare it at the end."
   ]
  },
  {
   "cell_type": "code",
   "execution_count": 11,
   "metadata": {},
   "outputs": [],
   "source": [
    "bs_perf = []\n",
    "\n",
    "for array in samples[0]:\n",
    "    start = time.time()\n",
    "    bubblesort(array)\n",
    "    end = time.time()\n",
    "    bs_perf.append(end - start)"
   ]
  },
  {
   "cell_type": "code",
   "execution_count": 12,
   "metadata": {},
   "outputs": [],
   "source": [
    "ms_perf = []\n",
    "\n",
    "for array in samples[1]:\n",
    "    start = time.time()\n",
    "    mergesort(array)\n",
    "    end = time.time()\n",
    "    ms_perf.append(end - start)"
   ]
  },
  {
   "cell_type": "code",
   "execution_count": 13,
   "metadata": {},
   "outputs": [],
   "source": [
    "qs_perf = []\n",
    "\n",
    "for array in samples[2]:\n",
    "    start = time.time()\n",
    "    quicksort(array,0,len(nums)-1)\n",
    "    end = time.time()\n",
    "    qs_perf.append(end - start)"
   ]
  },
  {
   "cell_type": "markdown",
   "metadata": {},
   "source": [
    "Let's combine all the results we received on a line chart to clearly see the comparison."
   ]
  },
  {
   "cell_type": "code",
   "execution_count": 14,
   "metadata": {},
   "outputs": [
    {
     "data": {
      "image/png": "[encoded data removed]",
      "text/plain": [
       "<Figure size 792x504 with 1 Axes>"
      ]
     },
     "metadata": {
      "needs_background": "light"
     },
     "output_type": "display_data"
    }
   ],
   "source": [
    "plt.rcParams['figure.figsize'] = [11, 7]\n",
    "\n",
    "plt.plot(bs_perf, label='Bubblesort')\n",
    "plt.plot(ms_perf, label='Mergesort')\n",
    "plt.plot(qs_perf, label='Quicksort')\n",
    "plt.ylabel('Time (s)')\n",
    "plt.xlabel('Set number')\n",
    "plt.title('Performance over increasing number of elements')\n",
    "plt.legend(loc='upper left')\n",
    "plt.show()"
   ]
  },
  {
   "cell_type": "markdown",
   "metadata": {},
   "source": [
    "Although there are some minor fluctuations here and there caused by machine performance, we can clearly see that bubblesort's sorting time rapidly increases with the number of elements it is supposed to sort. Mergesort and quicksort have equally good performance, however, mergesort is slightly increasing towards the end of the line chart. As it was pointed out at the beginning of this paper, bubblesort is nowadays used only for educational purposes for obvious reasons. On the other hand, various implementations of mergesort and quicksort are still in use due to their rather good performance."
   ]
  }
 ],
 "metadata": {
  "kernelspec": {
   "display_name": "Python 3",
   "language": "python",
   "name": "python3"
  },
  "language_info": {
   "codemirror_mode": {
    "name": "ipython",
    "version": 3
   },
   "file_extension": ".py",
   "mimetype": "text/x-python",
   "name": "python",
   "nbconvert_exporter": "python",
   "pygments_lexer": "ipython3",
   "version": "3.7.4"
  }
 },
 "nbformat": 4,
 "nbformat_minor": 2
}
